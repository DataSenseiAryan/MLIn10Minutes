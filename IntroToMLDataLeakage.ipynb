{
 "cells": [
  {
   "cell_type": "markdown",
   "metadata": {},
   "source": [
    "# Data Leakage"
   ]
  },
  {
   "cell_type": "markdown",
   "metadata": {},
   "source": [
    "Most people find target leakage very tricky until they've thought about it for a long time.\n",
    "\n",
    "So, before trying to think about leakage in the housing price example, we'll go through a few examples in other applications. Things will feel more familiar once you come back to a question about house prices.\n"
   ]
  },
  {
   "cell_type": "markdown",
   "metadata": {},
   "source": [
    "# 1. The Data Science of Shoelaces\n",
    "\n",
    "Nike has hired you as a data science consultant to help them save money on shoe materials. Your first assignment is to review a model one of their employees built to predict how many shoelaces they'll need each month. The features going into the machine learning model include:\n",
    "- The current month (January, February, etc)\n",
    "- Advertising expenditures in the previous month\n",
    "- Various macroeconomic features (like the unemployment rate) as of the beginning of the current month\n",
    "- The amount of leather they ended up using in the current month\n",
    "\n",
    "The results show the model is almost perfectly accurate if you include the feature about how much leather they used. But it is only moderately accurate if you leave that feature out. You realize this is because the amount of leather they use is a perfect indicator of how many shoes they produce, which in turn tells you how many shoelaces they need.\n",
    "\n",
    "Do you think the _leather used_ feature constitutes a source of data leakage? If your answer is \"it depends,\" what does it depend on?\n",
    "\n",
    "After you have thought about your answer, check it against the solution below."
   ]
  },
  {
   "cell_type": "markdown",
   "metadata": {},
   "source": [
    "#### Solution: \n",
    "This is tricky, and it depends on details of how data is collected (which is common when thinking about leakage). Would you at the beginning of the month decide how much leather will be used that month? If so, this is ok. But if that is determined during the month, you would not have access to it when you make the prediction. If you have a guess at the beginning of the month, and it is subsequently changed during the month, the actual amount used during the month cannot be used as a feature (because it causes leakage)."
   ]
  },
  {
   "cell_type": "markdown",
   "metadata": {},
   "source": [
    "# 2. Return of the Shoelaces\n",
    "\n",
    "You have a new idea. You could use the amount of leather Nike ordered (rather than the amount they actually used) leading up to a given month as a predictor in your shoelace model.\n",
    "\n",
    "Does this change your answer about whether there is a leakage problem? If you answer \"it depends,\" what does it depend on?"
   ]
  },
  {
   "cell_type": "markdown",
   "metadata": {},
   "source": [
    "#### Solution:\n",
    "This could be fine, but it depends on whether they order shoelaces first or leather first. If they order shoelaces first, you won't know how much leather they've ordered when you predict their shoelace needs. If they order leather first, then you'll have that number available when you place your shoelace order, and you should be ok."
   ]
  },
  {
   "cell_type": "markdown",
   "metadata": {},
   "source": [
    "# 3. Getting Rich With Cryptocurrencies?\n",
    "\n",
    "You saved Nike so much money that they gave you a bonus. Congratulations.\n",
    "\n",
    "Your friend, who is also a data scientist, says he has built a model that will let you turn your bonus into millions of dollars. Specifically, his model predicts the price of a new cryptocurrency (like Bitcoin, but a newer one) one day ahead of the moment of prediction. His plan is to purchase the cryptocurrency whenever the model says the price of the currency (in dollars) is about to go up.\n",
    "\n",
    "The most important features in his model are:\n",
    "- Current price of the currency\n",
    "- Amount of the currency sold in the last 24 hours\n",
    "- Change in the currency price in the last 24 hours\n",
    "- Change in the currency price in the last 1 hour\n",
    "- Number of new tweets in the last 24 hours that mention the currency\n",
    "\n",
    "The value of the cryptocurrency in dollars has fluctuated up and down by over \\$100 in the last year, and yet his model's average error is less than \\$1. He says this is proof his model is accurate, and you should invest with him, buying the currency whenever the model says it is about to go up.\n",
    "\n",
    "Is he right? If there is a problem with his model, what is it?"
   ]
  },
  {
   "cell_type": "markdown",
   "metadata": {},
   "source": [
    "##### Solution: \n",
    "There is no source of leakage here. These features should be available at the moment you want to make a predition, and they're unlikely to be changed in the training data after the prediction target is determined. But, the way he describes accuracy could be misleading if you aren't careful. If the price moves gradually, today's price will be an accurate predictor of tomorrow's price, but it may not tell you whether it's a good time to invest. For instance, if it is  100today,amodelpredictingapriceof100today,amodelpredictingapriceof 100 tomorrow may seem accurate, even if it can't tell you whether the price is going up or down from the current price. A better prediction target would be the change in price over the next day. If you can consistently predict whether the price is about to go up or down (and by how much), you may have a winning investment opportunity."
   ]
  },
  {
   "cell_type": "markdown",
   "metadata": {},
   "source": [
    "# 4. Preventing Infections\n",
    "\n",
    "An agency that provides healthcare wants to predict which patients from a rare surgery are at risk of infection, so it can alert the nurses to be especially careful when following up with those patients.\n",
    "\n",
    "You want to build a model. Each row in the modeling dataset will be a single patient who received the surgery, and the prediction target will be whether they got an infection.\n",
    "\n",
    "Some surgeons may do the procedure in a manner that raises or lowers the risk of infection. But how can you best incorporate the surgeon information into the model?\n",
    "\n",
    "You have a clever idea. \n",
    "1. Take all surgeries by each surgeon and calculate the infection rate among those surgeons.\n",
    "2. For each patient in the data, find out who the surgeon was and plug in that surgeon's average infection rate as a feature.\n",
    "\n",
    "Does this pose any target leakage issues?\n",
    "Does it pose any train-test contamination issues?"
   ]
  },
  {
   "cell_type": "markdown",
   "metadata": {},
   "source": [
    "##### Solution: \n",
    "This poses a risk of both target leakage and train-test contamination (though you may be able to avoid both if you are careful).\n",
    "\n",
    "You have target leakage if a given patient's outcome contributes to the infection rate for his surgeon, which is then plugged back into the prediction model for whether that patient becomes infected. You can avoid target leakage if you calculate the surgeon's infection rate by using only the surgeries before the patient we are predicting for. Calculating this for each surgery in your training data may be a little tricky.\n",
    "\n",
    "You also have a train-test contamination problem if you calculate this using all surgeries a surgeon performed, including those from the test-set. The result would be that your model could look very accurate on the test set, even if it wouldn't generalize well to new patients after the model is deployed. This would happen because the surgeon-risk feature accounts for data in the test set. Test sets exist to estimate how the model will do when seeing new data. So this contamination defeats the purpose of the test set."
   ]
  },
  {
   "cell_type": "markdown",
   "metadata": {},
   "source": [
    "# 5. Housing Prices\n",
    "\n",
    "You will build a model to predict housing prices.  The model will be deployed on an ongoing basis, to predict the price of a new house when a description is added to a website.  Here are four features that could be used as predictors.\n",
    "1. Size of the house (in square meters)\n",
    "2. Average sales price of homes in the same neighborhood\n",
    "3. Latitude and longitude of the house\n",
    "4. Whether the house has a basement\n",
    "\n",
    "You have historic data to train and validate the model.\n",
    "\n",
    "Which of the features is most likely to be a source of leakage?"
   ]
  },
  {
   "cell_type": "markdown",
   "metadata": {},
   "source": [
    "potential_leakage_feature = 2\n"
   ]
  },
  {
   "cell_type": "markdown",
   "metadata": {},
   "source": [
    "Correct:\n",
    "\n",
    "2 is the source of target leakage. Here is an analysis for each feature:\n",
    "\n",
    "The size of a house is unlikely to be changed after it is sold (though technically it's possible). But typically this will be available when we need to make a prediction, and the data won't be modified after the home is sold. So it is pretty safe.\n",
    "\n",
    "We don't know the rules for when this is updated. If the field is updated in the raw data after a home was sold, and the home's sale is used to calculate the average, this constitutes a case of target leakage. At an extreme, if only one home is sold in the neighborhood, and it is the home we are trying to predict, then the average will be exactly equal to the value we are trying to predict. In general, for neighborhoods with few sales, the model will perform very well on the training data. But when you apply the model, the home you are predicting won't have been sold yet, so this feature won't work the same as it did in the training data.\n",
    "\n",
    "These don't change, and will be available at the time we want to make a prediction. So there's no risk of target leakage here.\n",
    "\n",
    "This also doesn't change, and it is available at the time we want to make a prediction. So there's no risk of target leakage here."
   ]
  },
  {
   "cell_type": "markdown",
   "metadata": {},
   "source": [
    "Solution: 2 is the source of target leakage. Here is an analysis for each feature:\n",
    "\n",
    "The size of a house is unlikely to be changed after it is sold (though technically it's possible). But typically this will be available when we need to make a prediction, and the data won't be modified after the home is sold. So it is pretty safe.\n",
    "\n",
    "We don't know the rules for when this is updated. If the field is updated in the raw data after a home was sold, and the home's sale is used to calculate the average, this constitutes a case of target leakage. At an extreme, if only one home is sold in the neighborhood, and it is the home we are trying to predict, then the average will be exactly equal to the value we are trying to predict. In general, for neighborhoods with few sales, the model will perform very well on the training data. But when you apply the model, the home you are predicting won't have been sold yet, so this feature won't work the same as it did in the training data.\n",
    "\n",
    "These don't change, and will be available at the time we want to make a prediction. So there's no risk of target leakage here.\n",
    "\n",
    "This also doesn't change, and it is available at the time we want to make a prediction. So there's no risk of target leakage here."
   ]
  },
  {
   "cell_type": "markdown",
   "metadata": {},
   "source": [
    "# Conclusion\n",
    "Leakage is a hard and subtle issue. You should be proud if you picked up on the issues in these examples.\n",
    "\n",
    "Now you have the tools to make highly accurate models, and pick up on the most difficult practical problems that arise with applying these models to solve real problems.\n",
    "\n"
   ]
  },
  {
   "cell_type": "code",
   "execution_count": null,
   "metadata": {},
   "outputs": [],
   "source": []
  }
 ],
 "metadata": {
  "kernelspec": {
   "display_name": "Python 3",
   "language": "python",
   "name": "python3"
  },
  "language_info": {
   "codemirror_mode": {
    "name": "ipython",
    "version": 3
   },
   "file_extension": ".py",
   "mimetype": "text/x-python",
   "name": "python",
   "nbconvert_exporter": "python",
   "pygments_lexer": "ipython3",
   "version": "3.6.9"
  }
 },
 "nbformat": 4,
 "nbformat_minor": 4
}
